{
  "nbformat": 4,
  "nbformat_minor": 0,
  "metadata": {
    "colab": {
      "provenance": []
    },
    "kernelspec": {
      "name": "python3",
      "display_name": "Python 3"
    },
    "language_info": {
      "name": "python"
    }
  },
  "cells": [
    {
      "cell_type": "code",
      "execution_count": 40,
      "metadata": {
        "colab": {
          "base_uri": "https://localhost:8080/"
        },
        "id": "tpnpX9Aqunsv",
        "outputId": "e3b084ac-dafa-4f52-b429-0ebfe7c9e814"
      },
      "outputs": [
        {
          "output_type": "stream",
          "name": "stdout",
          "text": [
            "Requirement already satisfied: pandas in /usr/local/lib/python3.10/dist-packages (2.0.3)\n",
            "Requirement already satisfied: python-dateutil>=2.8.2 in /usr/local/lib/python3.10/dist-packages (from pandas) (2.8.2)\n",
            "Requirement already satisfied: pytz>=2020.1 in /usr/local/lib/python3.10/dist-packages (from pandas) (2023.4)\n",
            "Requirement already satisfied: tzdata>=2022.1 in /usr/local/lib/python3.10/dist-packages (from pandas) (2024.1)\n",
            "Requirement already satisfied: numpy>=1.21.0 in /usr/local/lib/python3.10/dist-packages (from pandas) (1.25.2)\n",
            "Requirement already satisfied: six>=1.5 in /usr/local/lib/python3.10/dist-packages (from python-dateutil>=2.8.2->pandas) (1.16.0)\n"
          ]
        }
      ],
      "source": [
        "!pip install pandas"
      ]
    },
    {
      "cell_type": "code",
      "source": [
        "import pandas as pd\n",
        "\n",
        "# Load the CSV file into a DataFrame\n",
        "df = pd.read_csv('AB_NYC_2019.csv')\n",
        "\n",
        "# Display the first few rows\n",
        "print(df.head())\n"
      ],
      "metadata": {
        "colab": {
          "base_uri": "https://localhost:8080/"
        },
        "id": "FPQufjK4v0tb",
        "outputId": "b54353dc-fdeb-4937-ab2f-c29ee350f0f9"
      },
      "execution_count": 41,
      "outputs": [
        {
          "output_type": "stream",
          "name": "stdout",
          "text": [
            "     id                                              name  host_id  \\\n",
            "0  2539                Clean & quiet apt home by the park     2787   \n",
            "1  2595                             Skylit Midtown Castle     2845   \n",
            "2  3647               THE VILLAGE OF HARLEM....NEW YORK !     4632   \n",
            "3  3831                   Cozy Entire Floor of Brownstone     4869   \n",
            "4  5022  Entire Apt: Spacious Studio/Loft by central park     7192   \n",
            "\n",
            "     host_name neighbourhood_group neighbourhood  latitude  longitude  \\\n",
            "0         John            Brooklyn    Kensington  40.64749  -73.97237   \n",
            "1     Jennifer           Manhattan       Midtown  40.75362  -73.98377   \n",
            "2    Elisabeth           Manhattan        Harlem  40.80902  -73.94190   \n",
            "3  LisaRoxanne            Brooklyn  Clinton Hill  40.68514  -73.95976   \n",
            "4        Laura           Manhattan   East Harlem  40.79851  -73.94399   \n",
            "\n",
            "         room_type  price  minimum_nights  number_of_reviews last_review  \\\n",
            "0     Private room    149               1                  9  2018-10-19   \n",
            "1  Entire home/apt    225               1                 45  2019-05-21   \n",
            "2     Private room    150               3                  0         NaN   \n",
            "3  Entire home/apt     89               1                270  2019-07-05   \n",
            "4  Entire home/apt     80              10                  9  2018-11-19   \n",
            "\n",
            "   reviews_per_month  calculated_host_listings_count  availability_365  \n",
            "0               0.21                               6               365  \n",
            "1               0.38                               2               355  \n",
            "2                NaN                               1               365  \n",
            "3               4.64                               1               194  \n",
            "4               0.10                               1                 0  \n"
          ]
        }
      ]
    },
    {
      "cell_type": "code",
      "source": [
        "# Get information about the DataFrame\n",
        "print(df.info())\n"
      ],
      "metadata": {
        "colab": {
          "base_uri": "https://localhost:8080/"
        },
        "id": "2qIfYqm8v8UR",
        "outputId": "aea03ad2-0c98-42dd-f47b-100be572296d"
      },
      "execution_count": 42,
      "outputs": [
        {
          "output_type": "stream",
          "name": "stdout",
          "text": [
            "<class 'pandas.core.frame.DataFrame'>\n",
            "RangeIndex: 48895 entries, 0 to 48894\n",
            "Data columns (total 16 columns):\n",
            " #   Column                          Non-Null Count  Dtype  \n",
            "---  ------                          --------------  -----  \n",
            " 0   id                              48895 non-null  int64  \n",
            " 1   name                            48879 non-null  object \n",
            " 2   host_id                         48895 non-null  int64  \n",
            " 3   host_name                       48874 non-null  object \n",
            " 4   neighbourhood_group             48895 non-null  object \n",
            " 5   neighbourhood                   48895 non-null  object \n",
            " 6   latitude                        48895 non-null  float64\n",
            " 7   longitude                       48895 non-null  float64\n",
            " 8   room_type                       48895 non-null  object \n",
            " 9   price                           48895 non-null  int64  \n",
            " 10  minimum_nights                  48895 non-null  int64  \n",
            " 11  number_of_reviews               48895 non-null  int64  \n",
            " 12  last_review                     38843 non-null  object \n",
            " 13  reviews_per_month               38843 non-null  float64\n",
            " 14  calculated_host_listings_count  48895 non-null  int64  \n",
            " 15  availability_365                48895 non-null  int64  \n",
            "dtypes: float64(3), int64(7), object(6)\n",
            "memory usage: 6.0+ MB\n",
            "None\n"
          ]
        }
      ]
    },
    {
      "cell_type": "code",
      "source": [
        "# Check for missing values\n",
        "print(df.isnull().sum())"
      ],
      "metadata": {
        "colab": {
          "base_uri": "https://localhost:8080/"
        },
        "id": "CkJGxe1DwNbH",
        "outputId": "8a8c82a0-8d8a-41be-9fc6-2be75b06854c"
      },
      "execution_count": 43,
      "outputs": [
        {
          "output_type": "stream",
          "name": "stdout",
          "text": [
            "id                                    0\n",
            "name                                 16\n",
            "host_id                               0\n",
            "host_name                            21\n",
            "neighbourhood_group                   0\n",
            "neighbourhood                         0\n",
            "latitude                              0\n",
            "longitude                             0\n",
            "room_type                             0\n",
            "price                                 0\n",
            "minimum_nights                        0\n",
            "number_of_reviews                     0\n",
            "last_review                       10052\n",
            "reviews_per_month                 10052\n",
            "calculated_host_listings_count        0\n",
            "availability_365                      0\n",
            "dtype: int64\n"
          ]
        }
      ]
    },
    {
      "cell_type": "code",
      "source": [
        "# Fill missing values with 'unknown'\n",
        "df['name'].fillna('unknown', inplace=True)\n",
        "df['host_name'].fillna('unknown', inplace=True)\n",
        "df['last_review'].fillna('01-01-2001', inplace=True)"
      ],
      "metadata": {
        "id": "V5wcchL7wQ-e"
      },
      "execution_count": 44,
      "outputs": []
    },
    {
      "cell_type": "code",
      "source": [
        "# Calculate median of reviews_per_month column\n",
        "median_reviews_per_month = df['reviews_per_month'].median()\n",
        "\n",
        "# Fill missing values with median\n",
        "df['reviews_per_month'].fillna(median_reviews_per_month, inplace=True)"
      ],
      "metadata": {
        "id": "KiwgehUFw3c_"
      },
      "execution_count": 45,
      "outputs": []
    },
    {
      "cell_type": "code",
      "source": [
        "# Check again for missing values in specific columns\n",
        "print(df[['name', 'host_name', 'last_review', 'reviews_per_month']].isnull().sum())\n"
      ],
      "metadata": {
        "colab": {
          "base_uri": "https://localhost:8080/"
        },
        "id": "gZ5o5UpKw7iG",
        "outputId": "48ff6e08-6c90-48e9-fb72-f08c4be880cb"
      },
      "execution_count": 46,
      "outputs": [
        {
          "output_type": "stream",
          "name": "stdout",
          "text": [
            "name                 0\n",
            "host_name            0\n",
            "last_review          0\n",
            "reviews_per_month    0\n",
            "dtype: int64\n"
          ]
        }
      ]
    },
    {
      "cell_type": "code",
      "source": [
        "# Remove duplicate records\n",
        "df.drop_duplicates(inplace=True)\n",
        "\n",
        "# Verify the number of duplicates removed\n",
        "print(\"Number of duplicate records removed:\", len(df) - len(df.drop_duplicates()))"
      ],
      "metadata": {
        "colab": {
          "base_uri": "https://localhost:8080/"
        },
        "id": "-Gd4kVZExHDR",
        "outputId": "1179ba38-3139-44b6-9f03-767ca86c0bc6"
      },
      "execution_count": 47,
      "outputs": [
        {
          "output_type": "stream",
          "name": "stdout",
          "text": [
            "Number of duplicate records removed: 0\n"
          ]
        }
      ]
    },
    {
      "cell_type": "code",
      "source": [
        "# Standardize categorical data\n",
        "df['neighbourhood_group'] = df['neighbourhood_group'].str.lower()\n",
        "df['neighbourhood'] = df['neighbourhood'].str.strip()\n",
        "df['neighbourhood']=df['neighbourhood'].str.lower()\n",
        "df['room_type'] = df['room_type'].str.lower()"
      ],
      "metadata": {
        "id": "4Ncah5Smxyb8"
      },
      "execution_count": 48,
      "outputs": []
    },
    {
      "cell_type": "code",
      "source": [
        "from sklearn.preprocessing import StandardScaler"
      ],
      "metadata": {
        "id": "D4zjGAsKy9rx"
      },
      "execution_count": 49,
      "outputs": []
    },
    {
      "cell_type": "code",
      "source": [
        "scaler = StandardScaler()\n",
        "numerical_columns = ['latitude', 'longitude', 'price', 'minimum_nights',\n",
        "                     'number_of_reviews', 'calculated_host_listings_count',\n",
        "                     'availability_365', 'reviews_per_month']  # Including reviews_per_month\n",
        "df[numerical_columns] = scaler.fit_transform(df[numerical_columns])"
      ],
      "metadata": {
        "id": "VkKsq9xEzAqN"
      },
      "execution_count": 50,
      "outputs": []
    },
    {
      "cell_type": "code",
      "source": [
        "# Handle date parsing with potential format variations\n",
        "df['last_review'] = pd.to_datetime(df['last_review'], errors='coerce', infer_datetime_format=True)\n",
        "\n",
        "# Check for rows where parsing failed (display them or handle as needed)\n",
        "print(\"Rows with failed date parsing:\")\n",
        "print(df[df['last_review'].isnull()]['last_review'])\n",
        "\n",
        "# Optionally, fill missing dates with a placeholder like 'unknown' if needed\n",
        "df['last_review'].fillna('01-01-2001', inplace=True)"
      ],
      "metadata": {
        "colab": {
          "base_uri": "https://localhost:8080/"
        },
        "id": "IC60PZNYzGew",
        "outputId": "9991ea98-7144-48ad-d84c-2c9d1dab8712"
      },
      "execution_count": 51,
      "outputs": [
        {
          "output_type": "stream",
          "name": "stdout",
          "text": [
            "Rows with failed date parsing:\n",
            "2       NaT\n",
            "19      NaT\n",
            "26      NaT\n",
            "36      NaT\n",
            "38      NaT\n",
            "         ..\n",
            "48890   NaT\n",
            "48891   NaT\n",
            "48892   NaT\n",
            "48893   NaT\n",
            "48894   NaT\n",
            "Name: last_review, Length: 10052, dtype: datetime64[ns]\n"
          ]
        },
        {
          "output_type": "stream",
          "name": "stderr",
          "text": [
            "<ipython-input-51-e74c7bfebf72>:2: UserWarning: The argument 'infer_datetime_format' is deprecated and will be removed in a future version. A strict version of it is now the default, see https://pandas.pydata.org/pdeps/0004-consistent-to-datetime-parsing.html. You can safely remove this argument.\n",
            "  df['last_review'] = pd.to_datetime(df['last_review'], errors='coerce', infer_datetime_format=True)\n"
          ]
        }
      ]
    },
    {
      "cell_type": "code",
      "source": [
        "# Function to detect and optionally remove outliers using IQR method\n",
        "def remove_outliers(df, column):\n",
        "    Q1 = df[column].quantile(0.25)\n",
        "    Q3 = df[column].quantile(0.75)\n",
        "    IQR = Q3 - Q1\n",
        "    lower_bound = Q1 - 1.5 * IQR\n",
        "    upper_bound = Q3 + 1.5 * IQR\n",
        "    outliers = (df[column] < lower_bound) | (df[column] > upper_bound)\n",
        "    # Optionally, you can remove outliers by filtering\n",
        "    df_cleaned = df[~outliers]\n",
        "    return df_cleaned\n",
        "\n",
        "# Specify numerical columns for outlier detection\n",
        "numerical_columns = ['price', 'minimum_nights', 'number_of_reviews',\n",
        "                     'reviews_per_month', 'calculated_host_listings_count',\n",
        "                     'availability_365']\n",
        "\n",
        "# Apply outlier detection to each numerical column\n",
        "for col in numerical_columns:\n",
        "    df = remove_outliers(df, col)\n"
      ],
      "metadata": {
        "id": "m8rz75KRzJ1v"
      },
      "execution_count": 52,
      "outputs": []
    },
    {
      "cell_type": "code",
      "source": [
        "# Display summary after outlier removal\n",
        "print(\"Summary after outlier removal:\")\n",
        "print(df.describe())"
      ],
      "metadata": {
        "colab": {
          "base_uri": "https://localhost:8080/"
        },
        "id": "dCNDxlg3ztTI",
        "outputId": "c4242935-aac4-4e1b-d1bb-d8c7379ce2b4"
      },
      "execution_count": 53,
      "outputs": [
        {
          "output_type": "stream",
          "name": "stdout",
          "text": [
            "Summary after outlier removal:\n",
            "                 id       host_id      latitude     longitude         price  \\\n",
            "count  2.498200e+04  2.498200e+04  24982.000000  24982.000000  24982.000000   \n",
            "mean   1.830857e+07  5.438802e+07     -0.002165     -0.046548     -0.134885   \n",
            "min    5.022000e+03  2.571000e+03     -4.038526     -6.331760     -0.635934   \n",
            "25%    9.535400e+06  7.161980e+06     -0.701572     -0.644125     -0.344452   \n",
            "50%    1.868645e+07  2.479845e+07     -0.145497     -0.076921     -0.219531   \n",
            "75%    2.680934e+07  7.240690e+07      0.634677      0.281806      0.013655   \n",
            "max    3.648724e+07  2.743213e+08      3.376357      5.181954      0.750689   \n",
            "std    1.023447e+07  6.786412e+07      0.989258      0.872504      0.275765   \n",
            "\n",
            "       minimum_nights  number_of_reviews                    last_review  \\\n",
            "count    24982.000000       24982.000000                          24982   \n",
            "mean        -0.199041          -0.318785  2014-06-15 03:56:26.726443008   \n",
            "min         -0.293996          -0.522433            2001-01-01 00:00:00   \n",
            "25%         -0.293996          -0.499987            2015-08-23 00:00:00   \n",
            "50%         -0.245240          -0.455093            2018-04-11 00:00:00   \n",
            "75%         -0.147729          -0.275520            2019-05-19 00:00:00   \n",
            "max          0.193563           1.071277            2019-07-08 00:00:00   \n",
            "std          0.096776           0.307903                            NaN   \n",
            "\n",
            "       reviews_per_month  calculated_host_listings_count  availability_365  \n",
            "count       24982.000000                    24982.000000      24982.000000  \n",
            "mean           -0.382081                       -0.179797         -0.628330  \n",
            "min            -0.808057                       -0.186451         -0.856865  \n",
            "25%            -0.709428                       -0.186451         -0.856865  \n",
            "50%            -0.387238                       -0.186451         -0.856865  \n",
            "75%            -0.334636                       -0.186451         -0.590949  \n",
            "max             1.033024                       -0.125757          0.844992  \n",
            "std             0.399367                        0.015490          0.416709  \n"
          ]
        }
      ]
    },
    {
      "cell_type": "code",
      "source": [
        "# Function to handle categorical outliers by frequency thresholding\n",
        "def handle_categorical_outliers(df, column, threshold=0.01):\n",
        "    # Calculate frequency of each category\n",
        "    category_counts = df[column].value_counts(normalize=True)\n",
        "    # Identify categories below the threshold\n",
        "    infrequent_categories = category_counts[category_counts < threshold].index\n",
        "    # Replace infrequent categories with 'Other'\n",
        "    df[column] = df[column].apply(lambda x: 'Other' if x in infrequent_categories else x)\n",
        "    return df\n",
        "\n",
        "# Specify categorical columns for handling outliers\n",
        "categorical_columns = ['neighbourhood_group', 'neighbourhood', 'room_type']\n",
        "\n",
        "# Apply outlier handling to each categorical column\n",
        "for col in categorical_columns:\n",
        "    df = handle_categorical_outliers(df, col)"
      ],
      "metadata": {
        "id": "PmgN2Le01qlF"
      },
      "execution_count": 54,
      "outputs": []
    },
    {
      "cell_type": "code",
      "source": [
        "# Display summary after handling categorical outliers\n",
        "print(\"Summary after handling categorical outliers:\")\n",
        "print(df[categorical_columns].value_counts(normalize=True))"
      ],
      "metadata": {
        "colab": {
          "base_uri": "https://localhost:8080/"
        },
        "id": "bABTg9MP1yGN",
        "outputId": "f860a3f2-31de-4d4e-f085-8163230b34a4"
      },
      "execution_count": 55,
      "outputs": [
        {
          "output_type": "stream",
          "name": "stdout",
          "text": [
            "Summary after handling categorical outliers:\n",
            "neighbourhood_group  neighbourhood              room_type      \n",
            "manhattan            Other                      entire home/apt    0.055920\n",
            "brooklyn             williamsburg               private room       0.054039\n",
            "                     Other                      entire home/apt    0.053158\n",
            "                     williamsburg               entire home/apt    0.045633\n",
            "                     bedford-stuyvesant         private room       0.044072\n",
            "                                                                     ...   \n",
            "                     prospect-lefferts gardens  shared room        0.000120\n",
            "                     fort greene                shared room        0.000080\n",
            "manhattan            west village               shared room        0.000040\n",
            "brooklyn             park slope                 shared room        0.000040\n",
            "Other                Other                      shared room        0.000040\n",
            "Name: proportion, Length: 84, dtype: float64\n"
          ]
        }
      ]
    },
    {
      "cell_type": "code",
      "source": [
        "# Save cleaned DataFrame to a new CSV file (optional)\n",
        "df.to_csv('cleaned_data.csv', index=False)"
      ],
      "metadata": {
        "id": "7Z7wNVtO18ta"
      },
      "execution_count": 56,
      "outputs": []
    }
  ]
}